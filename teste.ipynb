{
 "cells": [
  {
   "cell_type": "code",
   "execution_count": 1,
   "metadata": {},
   "outputs": [],
   "source": [
    "from newspaper import Article\n",
    "import nltk"
   ]
  },
  {
   "cell_type": "code",
   "execution_count": 2,
   "metadata": {},
   "outputs": [
    {
     "name": "stderr",
     "output_type": "stream",
     "text": [
      "[nltk_data] Downloading package punkt to\n",
      "[nltk_data]     C:\\Users\\annef\\AppData\\Roaming\\nltk_data...\n",
      "[nltk_data]   Package punkt is already up-to-date!\n"
     ]
    },
    {
     "data": {
      "text/plain": [
       "True"
      ]
     },
     "execution_count": 2,
     "metadata": {},
     "output_type": "execute_result"
    }
   ],
   "source": [
    "nltk.download('punkt')"
   ]
  },
  {
   "cell_type": "code",
   "execution_count": 3,
   "metadata": {},
   "outputs": [],
   "source": [
    "url = 'http://www.slate.fr/story/187026/discriminations-racisme-anti-asiatique-france-epidemie-coronavirus-chine'"
   ]
  },
  {
   "cell_type": "code",
   "execution_count": 4,
   "metadata": {},
   "outputs": [],
   "source": [
    "article = Article(url)"
   ]
  },
  {
   "cell_type": "code",
   "execution_count": 5,
   "metadata": {},
   "outputs": [],
   "source": [
    "article.download() \n",
    "article.parse() \n",
    "article.nlp() "
   ]
  },
  {
   "cell_type": "code",
   "execution_count": 6,
   "metadata": {},
   "outputs": [
    {
     "data": {
      "text/plain": [
       "['Grace Ly', \"Solenn Cordroc'H\", 'Donia Ismail', 'Léa Polverini']"
      ]
     },
     "execution_count": 6,
     "metadata": {},
     "output_type": "execute_result"
    }
   ],
   "source": [
    "article.authors"
   ]
  },
  {
   "cell_type": "code",
   "execution_count": 7,
   "metadata": {},
   "outputs": [
    {
     "data": {
      "text/plain": [
       "datetime.datetime(2020, 2, 4, 8, 0, tzinfo=tzoffset(None, 3600))"
      ]
     },
     "execution_count": 7,
     "metadata": {},
     "output_type": "execute_result"
    }
   ],
   "source": [
    "article.publish_date"
   ]
  },
  {
   "cell_type": "code",
   "execution_count": 8,
   "metadata": {},
   "outputs": [
    {
     "name": "stdout",
     "output_type": "stream",
     "text": [
      "Article Title:\n",
      "Ne me demandez plus si le racisme anti-asiatique existe vraiment\n",
      "\n",
      "\n",
      "Article Authors:\n",
      "['Grace Ly', \"Solenn Cordroc'H\", 'Donia Ismail', 'Léa Polverini']\n",
      "\n",
      "\n",
      "Article Date:\n",
      "2020-02-04 08:00:00+01:00\n",
      "\n",
      "\n",
      "Article Text:\n",
      "Temps de lecture: 7 min\n",
      "\n",
      "«Ils mangent tout, ces gens-là», «Ça ne m'étonne pas que ça vienne de Chine, parce que l'hygiène, là-bas…», «Gardez votre virus chinois!».\n",
      "\n",
      "L'épidémie de coronavirus 2019 n-Cov qui sévit en Chine depuis décembre 2019 a ouvert la boîte de Pandore du racisme anti-asiatique partout dans le monde. Les réseaux sociaux débordent d'insultes, les médias font gonfler la psychose, les gens se sentent autorisés à répandre leur racisme dans la rue envers des personnes perçues comme asiatiques, et les enfants répètent dans la cour d'école tout ce qu'ils entendent.\n",
      "\n",
      "C'est moche, je vous l'accorde. L'autre jour, au café, en me voyant arriver au comptoir, un homme a gloussé en direction de ses copains: «Vite, mettez vos masques!» La pharmacie au coin de ma rue est en rupture de stock de masques chirurgicaux, alors que les professionnel·les de santé ont affirmé qu'ils étaient inutiles pour les populations saines.\n",
      "\n",
      "À LIRE AUSSI Sommes-nous correctement préparés au nouveau coronavirus?\n",
      "\n",
      "Pas le premier symptôme\n",
      "\n",
      "Ma triste expérience de Parisienne n'est rien comparée aux violences graves –exclusion, agressions– éprouvées par nombre d'Asiatiques en France, dont beaucoup ont témoigné spontanément sur les réseaux sociaux grâce au hashtag #JeNeSuisPasUnVirus.\n",
      "\n",
      "Rien de tout cela n'est normal. Rien de tout cela n'est acceptable. Le coronavirus est un prétexte, bien sûr. Le racisme anti-asiatique n'a pas été fabriqué à Wuhan, épicentre du virus en Chine: il nous hante depuis bien longtemps. La peur de la maladie a dévoilé les vrais visages et gratté la terre fertile d'un racisme ancré dans nos mentalités.\n",
      "\n",
      "En 2019, une salade au nom raciste de «Tching Tchong» –car composée de rouleaux de printemps, touche de gingembre et lait de coco–, proposée à la carte d'un restaurant du chef étoilé Christophe Adam, a suscité l'indignation.\n",
      "\n",
      "Plus tard dans l'année, des scènes de l'émission «Un dîner presque parfait» –où des convives se tirent les yeux avec les doigts, chapeaux pointus sur la tête, faisant mine d'imiter des langues asiatiques– ont été signalées au CSA par des internautes en colère.\n",
      "\n",
      "En 2018, la rediffusion sur W9 du sketch raciste de Kev Adams et Gad Elmaleh –déguisements grossiers, accents inexistants, «je me faisais du sushi» et «reine des nems»– a mis le feu aux poudres.\n",
      "\n",
      "En 2017, une comptine aux paroles racistes intitulée «Chang le petit Chinois» –«aux yeux riquiquis qui se nourrit de riz et de litchis»–, enseignée dans une maternelle en région parisienne, a soulevé internet.\n",
      "\n",
      "Le racisme anti-asiatique n'a pas été fabriqué à Wuhan, épicentre du virus: il nous hante depuis bien longtemps.\n",
      "\n",
      "En 2016, la mort du couturier Zhang Chaolin à Aubervilliers, des suites d'une attaque jugée raciste par les tribunaux français –ses agresseurs avaient cru à tort qu'il avait de l'argent liquide sur lui en raison de son faciès–, a fait descendre la foule dans les rues de Paris.\n",
      "\n",
      "Et depuis les années 1980, l'humoriste Michel Leeb fait son beurre avec son «accent asiatique» –et tous les autres accents qu'il fantasme en toute impunité.\n",
      "\n",
      "Le coronavirus est donc loin d'être le premier symptôme du racisme anti-asiatique en France. Alors qu'il est dénoncé massivement en ligne depuis plusieurs années, pourquoi la situation n'évolue-t-elle pas? Pourquoi en est-on toujours au même point?\n",
      "\n",
      "Spectre du «péril jaune»\n",
      "\n",
      "On n'a pas bougé; on est toujours au point de départ. D'ailleurs, lorsque des journalistes me sollicitent pour l'évoquer, on me demande encore tout naturellement: «Le racisme anti-asiatique existe-t-il vraiment?» Sur le plateau de «C politique» du dimanche 2 février 2020, le thème était affiché sur mon écran: «Coronavirus / Y a-t-il un racisme anti-asiatique?»\n",
      "\n",
      "Cette question rhétorique m'interroge. Si on nous la pose, c'est bien qu'il y a un sujet à traiter. Mais alors d'où subsiste le doute quant à l'existence du racisme anti-asiatique?\n",
      "\n",
      "À croire que le «péril jaune», remis au cœur de l'actualité par l'éditorial du Courrier picard du 26 janvier 2020, ne nous a jamais vraiment quitté·es, nous empêchant de le discerner clairement dans nos propos et nos comportements.\n",
      "\n",
      "Cette théorie datant du XIXe siècle dépeint les peuples d'Asie de l'Est comme cruels, barbares, inférieurs, très différents de nous –la base de tout racisme, en réalité. Elle a accompagné les politiques internationales qui ont humilié la Chine et l'Indochine: guerres de l'opium, traités inégaux, enclaves territoriales, révolte des Boxers, colonisation.\n",
      "\n",
      "De nos jours, on retrouve le spectre du «péril jaune» dans le sillage du coronavirus, dépeignant les Chinois·es et toutes les personnes qui ressemblent à des Chinois·es comme mangeant des animaux sauvages et vivant dans une hygiène suspecte.\n",
      "\n",
      "Oui, c'est moche, on est bien d'accord.\n",
      "\n",
      "Pour nous défaire de nos préjugés racistes construits par l'histoire, on nous répète à raison que l'éducation est primordiale. Or, qui a étudié cette histoire à l'école? Qui a appris à défaire les processus par lesquels des théories racistes ont servi de support à des politiques expansionnistes? À qui a-t-on enseigné à respecter les autres autrement que par des coloriages décorés de petits cœurs et des chansons caritatives de levée de fonds?\n",
      "\n",
      "Pas à moi, en tout cas. Ni aux journalistes du Courrier picard, manifestement.\n",
      "\n",
      "Cette histoire, je suis tombée dessus au détour de mes études universitaires en langues étrangères appliquées –autant dire par hasard. Il nous faut des outils éducatifs pour les Français·es qui n'aborderont pas la civilisation chinoise. Il nous faut des moyens pour que la France enseigne sa propre histoire et y inscrive la lutte pour l'égalité et contre les discriminations dans un programme national accessible dès la plus petite enfance.\n",
      "\n",
      "À LIRE AUSSI Le problème avec les hommes qui n'aiment que les femmes asiatiques\n",
      "\n",
      "De minorité modèle à parias\n",
      "\n",
      "L'une des caractéristiques du racisme anti-asiatique repose sur sa mutation apparente, depuis les années 1970, en racisme «supportable». Je mets bien entendu des guillemets, car il n'est jugé supportable que par les personnes qui le profèrent; tout racisme demeure insupportable pour celles qui en sont la cible.\n",
      "\n",
      "Largement constitué dans l'inconscient collectif par des stéréotypes que l'on estime positifs –les individus asiatiques seraient travailleurs, discrets, dociles, bons immigrés, champions de l'intégration–, le racisme anti-asiatique prend des allures de compliments racistes: c'est le fameux «On vous aime bien, vous les Asiatiques. Pas comme les autres, là».\n",
      "\n",
      "L'instrumentalisation des communautés asiatiques visibles (notamment vietnamienne ou chinoise du Sud) en minorité modèle de surface permet surtout de dévaloriser par comparaison les autres communautés «mal-aimées» –noire, arabe, juive ou rom, par exemple.\n",
      "\n",
      "Il reflète ce que notre société a de plus sombre: ses peurs irrationnelles, son histoire à effacer et le bouc émissaire le plus opportun à un moment donné.\n",
      "\n",
      "Depuis l'apparition du coronavirus et son angoisse communicative, l'image qui nous semblait pourtant acquise de «migrant·es parfait·es» s'est en quelques jours transformée en celle de parias de la société –les gens dont il faut se protéger et, si possible, que l'on doit chasser. C'est devenu le «attention aux Chinois·es et à leur virus!»: les passant·es ajustent leur écharpe, changent de trottoir, regardent leurs pieds.\n",
      "\n",
      "Ce bouleversement brusque confirme que le racisme n'est toujours qu'une construction sociale totalement indépendante de qui nous sommes réellement en tant qu'individus. Il reflète ce que notre société a de plus sombre: ses peurs irrationnelles, son histoire à effacer et le bouc émissaire le plus opportun à un moment donné.\n",
      "\n",
      "Quand on parle de racisme, les mots sont importants. Face à quelqu'un énonçant quelque chose de raciste, il faut dire: «Ce que tu as dit est raciste.» Ne trouvez pas d'excuses au racisme. Ne dites pas que c'est «borderline», «limite» ou «tendancieux». N'utilisez pas le terme «dérapage». Le racisme, ce n'est pas de l'ignorance, de la bêtise ou de la beauferie; ce n'est pas un «accident». C'est déjà l'excuser que d'éviter de le nommer.\n",
      "\n",
      "Le racisme est une histoire construite par les un·es, qui stagne dans nos esprits et permet aux personnes qui l'ont forgée de continuer à la perpétuer aux dépens de celles et ceux qui la subissent.\n",
      "\n",
      "La langue et la parole\n",
      "\n",
      "Notre langue française est porteuse de cette histoire de domination. Ne dit-on pas en français que le jaune est la couleur de la traîtrise? Que c'est la couleur des cocus mais aussi des trompeurs? Parler chinois est un synonyme de fourberie, même les rappeurs s'y prêtent dans leurs textes.\n",
      "\n",
      "\n",
      "\n",
      "Capture écran via Instagram.\n",
      "\n",
      "Un chinois est communément admis comme étant un ustensile de cuisine ou une brioche alsacienne au nom imprononçable, avant de revêtir une majuscule pour désigner une personne. Une chinoiserie est une tracasserie inutile. Personne n'en veut, car tout le monde veut vivre sa vie de façon débridée. Mais on qualifie volontiers de «bridé» un organe qui ne souffre pourtant d'aucune limitation physiologique. Quelle forme géométrique a une bride?\n",
      "\n",
      "De toute façon, je trouve ça moche. Le pire dans tout ça, c'est quand on y est tant habitué·e que l'on ne voit même plus la laideur qui nous entoure.\n",
      "\n",
      "Et après? S'il faut trouver de l'eau dans le verre, le coronavirus nous aura au moins permis d'ouvrir grand les yeux sur ce racisme anti-asiatique endémique de nos contrées.\n",
      "\n",
      "Comme il a fallu la mort d'un homme nommé Zhang Chaolin pour que l'on comprenne que les clichés, même «positifs», peuvent tuer, il nous aura fallu le coronavirus pour saisir que la maladie du racisme anti-asiatique se niche dans notre chair.\n",
      "\n",
      "Car le jour où une équipe de recherche chinoise trouvera un remède au virus, elle ne résoudra pas miraculeusement le racisme anti-asiatique de la même pierre. Si l'on continue à ne rien faire, il poursuivra sa gangrène qui nous pourrit déjà. Que vous soyez asiatiques ou non, le racisme anti-asiatique fait partie des maux de la société française.\n",
      "\n",
      "Alors si vous êtes victime de racisme anti-asiatique, dites-le. Si vous êtes témoin de racisme anti-asiatique, dites-le. Si vous avez eu un comportement raciste anti-asiatique, que vous compreniez ou non la gravité de vos actes, dites-le.\n",
      "\n",
      "Commençons par nous compter pour que le combat contre le racisme anti-asiatique compte parmi nos priorités. Pour passer la seconde. Pour trouver des solutions. Pour que plus personne ne doute encore que le racisme anti-asiatique existe vraiment.\n",
      "\n",
      "\n",
      "Article Summary:\n",
      "Le racisme anti-asiatique n'a pas été fabriqué à Wuhan, épicentre du virus en Chine: il nous hante depuis bien longtemps.\n",
      "Le coronavirus est donc loin d'être le premier symptôme du racisme anti-asiatique en France.\n",
      "Car le jour où une équipe de recherche chinoise trouvera un remède au virus, elle ne résoudra pas miraculeusement le racisme anti-asiatique de la même pierre.\n",
      "Commençons par nous compter pour que le combat contre le racisme anti-asiatique compte parmi nos priorités.\n",
      "Pour que plus personne ne doute encore que le racisme anti-asiatique existe vraiment.\n",
      "\n",
      "\n",
      "Article Keywords:\n",
      "['ne', 'racisme', 'plus', 'du', 'existe', 'antiasiatique', 'la', 'les', 'le', 'et', 'des', 'si', 'en', 'demandez', 'à', 'vraiment', 'que']\n"
     ]
    }
   ],
   "source": [
    "print(\"Article Title:\") \n",
    "print(article.title) #prints the title of the article\n",
    "print(\"\\n\") \n",
    "print(\"Article Authors:\") \n",
    "print(article.authors) #prints the authors of the article\n",
    "print(\"\\n\") \n",
    "print(\"Article Date:\") \n",
    "print(article.publish_date) #prints date of the article\n",
    "print(\"\\n\") \n",
    "print(\"Article Text:\") \n",
    "print(article.text) #prints the entire text of the article\n",
    "print(\"\\n\") \n",
    "print(\"Article Summary:\") \n",
    "print(article.summary) #prints the summary of the article\n",
    "print(\"\\n\") \n",
    "print(\"Article Keywords:\")\n",
    "print(article.keywords) #prints the keywords of the article"
   ]
  },
  {
   "cell_type": "code",
   "execution_count": 10,
   "metadata": {},
   "outputs": [],
   "source": [
    "file1=open(\"article_4.txt\", \"w+\")\n",
    "file1.write(\"Title:\\n\")\n",
    "file1.write(article.title)\n",
    "file1.write(\"\\n\\nArticle Text:\\n\")\n",
    "file1.write(article.text)\n",
    "file1.write(\"\\n\\nArticle Summary:\\n\")\n",
    "file1.write(article.summary)\n",
    "file1.write(\"\\n\\n\\nArticle Keywords:\\n\")\n",
    "keywords='\\n'.join(article.keywords)\n",
    "file1.write(keywords)\n",
    "file1.close()"
   ]
  }
 ],
 "metadata": {
  "kernelspec": {
   "display_name": "Python 3",
   "language": "python",
   "name": "python3"
  },
  "language_info": {
   "codemirror_mode": {
    "name": "ipython",
    "version": 3
   },
   "file_extension": ".py",
   "mimetype": "text/x-python",
   "name": "python",
   "nbconvert_exporter": "python",
   "pygments_lexer": "ipython3",
   "version": "3.8.3"
  }
 },
 "nbformat": 4,
 "nbformat_minor": 4
}
