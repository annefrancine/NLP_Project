{
 "cells": [
  {
   "cell_type": "code",
   "execution_count": 1,
   "metadata": {},
   "outputs": [],
   "source": [
    "from newspaper import Article\n",
    "import nltk"
   ]
  },
  {
   "cell_type": "code",
   "execution_count": 2,
   "metadata": {},
   "outputs": [
    {
     "name": "stderr",
     "output_type": "stream",
     "text": [
      "[nltk_data] Downloading package punkt to\n",
      "[nltk_data]     C:\\Users\\annef\\AppData\\Roaming\\nltk_data...\n",
      "[nltk_data]   Package punkt is already up-to-date!\n"
     ]
    },
    {
     "data": {
      "text/plain": [
       "True"
      ]
     },
     "execution_count": 2,
     "metadata": {},
     "output_type": "execute_result"
    }
   ],
   "source": [
    "nltk.download('punkt')"
   ]
  },
  {
   "cell_type": "code",
   "execution_count": 3,
   "metadata": {},
   "outputs": [],
   "source": [
    "url = 'https://www.lefigaro.fr/vox/politique/l-unef-est-devenu-un-suppletif-des-activistes-de-la-lutte-racialiste-20210317?utm_medium=Social&utm_source=Facebook#Echobox=1616058843'"
   ]
  },
  {
   "cell_type": "code",
   "execution_count": 4,
   "metadata": {},
   "outputs": [],
   "source": [
    "article = Article(url)"
   ]
  },
  {
   "cell_type": "code",
   "execution_count": 5,
   "metadata": {},
   "outputs": [],
   "source": [
    "article.download() \n",
    "article.parse() \n",
    "article.nlp() "
   ]
  },
  {
   "cell_type": "code",
   "execution_count": 6,
   "metadata": {},
   "outputs": [
    {
     "data": {
      "text/plain": [
       "['Aziliz Le Corre']"
      ]
     },
     "execution_count": 6,
     "metadata": {},
     "output_type": "execute_result"
    }
   ],
   "source": [
    "article.authors"
   ]
  },
  {
   "cell_type": "code",
   "execution_count": 7,
   "metadata": {},
   "outputs": [],
   "source": [
    "article.publish_date"
   ]
  },
  {
   "cell_type": "code",
   "execution_count": 8,
   "metadata": {},
   "outputs": [
    {
     "name": "stdout",
     "output_type": "stream",
     "text": [
      "Article Title:\n",
      "«L’UNEF est devenu un supplétif des activistes de la lutte racialiste»\n",
      "\n",
      "\n",
      "Article Text:\n",
      "FIGAROVOX/ENTRETIEN - La présidente de l’UNEF, Mélanie Luce, a admis que son syndicat organisait des réunions interdites aux Blancs. Selon l’essayiste Paul Melun, le syndicat étudiant connaît depuis plusieurs années une dérive raciste, qui fait des universités le foyer de l’islamo-gauchisme.\n",
      "\n",
      "Paul Melun est conseiller en stratégie et essayiste. Il a récemment publié, avec Jérémie Cornet, Les enfants de la déconstruction. Portrait d’une jeunesse en rupture (éd. Marie B., 2019).\n",
      "\n",
      "FIGAROVOX. - Ce matin sur Europe 1, la présidente de l’UNEF, Mélanie Luce, a admis que son syndicat organisait des réunions interdites aux Blancs. En tant qu’ancien président de l’UNEF à Science Po Bordeaux, de 2014 à 2016, avez-vous eu connaissance de ces pratiques?\n",
      "\n",
      "Paul MELUN. - Durant mon engagement à l’IEP de Bordeaux, j’ai constaté le glissement idéologique du syndicat. D’une gauche traditionnelle, soucieuse de défendre les plus démunis, l’UNEF est devenu un supplétif des activistes de la lutte «anti-discriminations» et des «minorités», concepts tout droit sortis des campus américains. Dans sa tradition centralisatrice et peu démocratique, la direction nationale a peu à peu ordonné une nouvelle orientation politique des sections locales en ce sens.\n",
      "\n",
      "Les méthodes de l’UNEF sont simples et reviennent à séparer le monde en deux catégories : les victimes et leurs bourreaux.\n",
      "\n",
      "À ma grande surprise, les concepts de réunions en «non-mixité» ont fait leur apparition. Il m’était alors demandé d’organiser des réunions interdites aux hommes, catalogués comme oppresseurs héréditaires. J’ai naturellement refusé que de telles choses se produisent sous ma présidence. Mon positionnement a alors été marginalisé et j’ai subi une campagne d’intimidation pour me faire plier.\n",
      "\n",
      "J’ai poursuivi une gestion de l’UNEF à Sciences Po Bordeaux différente de la doxa nationale qui ne me convenait plus. Je crois que beaucoup d’étudiants de l’époque ont pu constater comme moi l’OPA des luttes néoféministes ou racialistes sur la gauche républicaine. Leurs méthodes sont simples et reviennent à séparer le monde en deux catégories: les victimes et leurs bourreaux. Né homme blanc, j’appartiens naturellement à la seconde selon eux.\n",
      "\n",
      "VOIR AUSSI - Bruno Retailleau demande à ce que la présidente de l’UNEF soit jugée pour «provocation à la haine raciale»\n",
      "\n",
      "Selon vous, cette dérive témoigne-t-elle de convergences idéologiques entre la gauche et l’islamisme?\n",
      "\n",
      "L’islamo-gauchisme comme l’ensemble des luttes intersectionnelles, reste minoritaire dans le peuple de gauche. Bien que très affaiblis, les sympathisants de gauche demeurent attachés aux valeurs françaises et subissent de plein fouet la francophobie de leurs élites. Incapable de répondre aux défis économiques, diplomatiques ou sociaux du pays, l’intelligentsia de gauche a délaissé ce peuple au profit d’hypothétiques minorités. C’est ainsi que la gauche féministe se retrouve à faire l’apologie du voile, ou que la gauche anti-raciste se retrouve à prôner l’exclusion des blancs à des réunions ou manifestations.\n",
      "\n",
      "L’islam exerce une certaine fascination sur une partie de la gauche.\n",
      "\n",
      "Les repères de la gauche se sont effondrés les uns après les autres. Le mur de Berlin est tombé, la désindustrialisation a sonné le glas des combats ouvriers et la sociale démocratie au pouvoir a déçu. Aujourd’hui, je crois que l’islam exerce une certaine fascination sur une partie de la gauche. Pour eux, les musulmans ne sont pas des Français qui doivent s’intégrer, mais les nouveaux damnés de la terre, les victimes du racisme structurel et de l’oppression éternelle de la France.\n",
      "\n",
      "Cette gauche, sans culture ni esprit, rechigne à condamner les viols s’ils sont commis par des musulmans et accepte sans sourciller que la charia s’impose sur la liberté de caricaturer, de se vêtir ou de s’exprimer. En voyant dans l’islam politique l’idéologie d’un nouveau prolétariat, la gauche commet une grave erreur. Ce renoncement se ressent d’ailleurs dans les urnes. La gauche est historiquement faible et représente péniblement 25 % des suffrages totaux si elle se réunit. Signe que les électeurs de gauche n’adhèrent pas au virage «pro-minorités» de cette nouvelle gauche sans idées.\n",
      "\n",
      "Faut-il, comme le suggère François-Xavier Bellamy, dissoudre l’UNEF?\n",
      "\n",
      "Je ne crois pas qu’il faille dissoudre l’UNEF. Pas plus que les autres organisations politiques ou militantes qui font ou ont fait l’objet de dissolution récemment. L’UNEF doit pouvoir exister et défendre ses idées et nous devons avoir le droit de les contester sans être traités de fascistes par leurs leaders. Je suis navré de voir qu’aujourd’hui il y ait tant de sujets interdits, de concepts que l’on ne peut contester sous peine d’être traîné dans la boue, à l’instar des théories du genre, du décolonialisme ou de «l’islamophobie». Je ne vais pas appeler à encore davantage de censure à une époque où l’on empêche déjà beaucoup trop de penser librement à mon goût.\n",
      "\n",
      "Face aux inepties de l’UNEF nous devons reconquérir idéologiquement le terrain. Les universités sont devenues le foyer de l’islamo-gauchisme et des théories du genre, il faut impérativement une contre-attaque intellectuelle, surtout à gauche. Je prône un débat d’idées totalement libre et sans barrières. C’est d’ailleurs toute ma différence avec l’UNEF qui préfère souvent faire interdire les conférences de ses adversaires ou les exclure à cause de leur couleur de peau.\n",
      "\n",
      "VOIR AUSSI - Quelles sont véritablement les origines des thèses racialistes?\n",
      "\n",
      "\n",
      "Article Summary:\n",
      "En tant qu’ancien président de l’UNEF à Science Po Bordeaux, de 2014 à 2016, avez-vous eu connaissance de ces pratiques?\n",
      "D’une gauche traditionnelle, soucieuse de défendre les plus démunis, l’UNEF est devenu un supplétif des activistes de la lutte «anti-discriminations» et des «minorités», concepts tout droit sortis des campus américains.\n",
      "VOIR AUSSI - Bruno Retailleau demande à ce que la présidente de l’UNEF soit jugée pour «provocation à la haine raciale»Selon vous, cette dérive témoigne-t-elle de convergences idéologiques entre la gauche et l’islamisme?\n",
      "C’est ainsi que la gauche féministe se retrouve à faire l’apologie du voile, ou que la gauche anti-raciste se retrouve à prôner l’exclusion des blancs à des réunions ou manifestations.\n",
      "Le mur de Berlin est tombé, la désindustrialisation a sonné le glas des combats ouvriers et la sociale démocratie au pouvoir a déçu.\n",
      "\n",
      "\n",
      "Article Keywords:\n",
      "['racialiste', 'à', 'lunef', 'supplétif', 'et', 'est', 'que', 'lutte', 'le', 'devenu', 'activistes', 'les', 'gauche', 'des', 'la', 'une']\n"
     ]
    }
   ],
   "source": [
    "print(\"Article Title:\") \n",
    "print(article.title) #prints the title of the article\n",
    "print(\"\\n\") \n",
    "print(\"Article Text:\") \n",
    "print(article.text) #prints the entire text of the article\n",
    "print(\"\\n\") \n",
    "print(\"Article Summary:\") \n",
    "print(article.summary) #prints the summary of the article\n",
    "print(\"\\n\") \n",
    "print(\"Article Keywords:\")\n",
    "print(article.keywords) #prints the keywords of the article"
   ]
  },
  {
   "cell_type": "code",
   "execution_count": 9,
   "metadata": {},
   "outputs": [],
   "source": [
    "file1=open(\"article_1.txt\", \"w+\")\n",
    "file1.write(\"Title:\\n\")\n",
    "file1.write(article.title)\n",
    "file1.write(\"\\n\\nArticle Text:\\n\")\n",
    "file1.write(article.text)\n",
    "file1.write(\"\\n\\nArticle Summary:\\n\")\n",
    "file1.write(article.summary)\n",
    "file1.write(\"\\n\\n\\nArticle Keywords:\\n\")\n",
    "keywords='\\n'.join(article.keywords)\n",
    "file1.write(keywords)\n",
    "file1.close()"
   ]
  }
 ],
 "metadata": {
  "kernelspec": {
   "display_name": "Python 3",
   "language": "python",
   "name": "python3"
  },
  "language_info": {
   "codemirror_mode": {
    "name": "ipython",
    "version": 3
   },
   "file_extension": ".py",
   "mimetype": "text/x-python",
   "name": "python",
   "nbconvert_exporter": "python",
   "pygments_lexer": "ipython3",
   "version": "3.8.3"
  }
 },
 "nbformat": 4,
 "nbformat_minor": 4
}
